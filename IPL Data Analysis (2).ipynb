{
 "cells": [
  {
   "cell_type": "code",
   "execution_count": 1,
   "id": "987cbc67",
   "metadata": {},
   "outputs": [],
   "source": [
    "import pandas as pd\n",
    "import matplotlib.pyplot as plt\n",
    "import seaborn as sns\n",
    "\n",
    "data = {\n",
    "    'season': [2023, 2023, 2023, 2022, 2022, 2022, 2021, 2021, 2021],\n",
    "    'team1': ['MI', 'CSK', 'RCB', 'MI', 'KKR', 'CSK', 'DC', 'RCB', 'MI'],\n",
    "    'team2': ['CSK', 'RCB', 'MI', 'KKR', 'CSK', 'MI', 'MI', 'CSK', 'KKR'],\n",
    "    'winner': ['CSK', 'RCB', 'MI', 'CSK', 'CSK', 'MI', 'DC', 'RCB', 'MI'],\n",
    "    'city': ['Mumbai', 'Bangalore', 'Hyderabad', 'Mumbai', 'Kolkata', 'Bangalore', 'Chennai', 'Hyderabad', 'Kolkata'],\n",
    "    'player_of_match': ['Rohit Sharma', 'Virat Kohli', 'MS Dhoni', 'Rohit Sharma', 'Ravindra Jadeja', 'Virat Kohli', 'Rohit Sharma', 'MS Dhoni', 'Rohit Sharma'],\n",
    "    'runs_scored': [160, 180, 175, 150, 200, 190, 170, 185, 165]\n",
    "}\n",
    "\n",
    "ipl_df = pd.DataFrame(data)"
   ]
  },
  {
   "cell_type": "code",
   "execution_count": 2,
   "id": "22dcced8",
   "metadata": {},
   "outputs": [
    {
     "name": "stdout",
     "output_type": "stream",
     "text": [
      "   season team1 team2 winner       city  player_of_match  runs_scored\n",
      "0    2023    MI   CSK    CSK     Mumbai     Rohit Sharma          160\n",
      "1    2023   CSK   RCB    RCB  Bangalore      Virat Kohli          180\n",
      "2    2023   RCB    MI     MI  Hyderabad         MS Dhoni          175\n",
      "3    2022    MI   KKR    CSK     Mumbai     Rohit Sharma          150\n",
      "4    2022   KKR   CSK    CSK    Kolkata  Ravindra Jadeja          200\n",
      "<class 'pandas.core.frame.DataFrame'>\n",
      "RangeIndex: 9 entries, 0 to 8\n",
      "Data columns (total 7 columns):\n",
      " #   Column           Non-Null Count  Dtype \n",
      "---  ------           --------------  ----- \n",
      " 0   season           9 non-null      int64 \n",
      " 1   team1            9 non-null      object\n",
      " 2   team2            9 non-null      object\n",
      " 3   winner           9 non-null      object\n",
      " 4   city             9 non-null      object\n",
      " 5   player_of_match  9 non-null      object\n",
      " 6   runs_scored      9 non-null      int64 \n",
      "dtypes: int64(2), object(5)\n",
      "memory usage: 632.0+ bytes\n",
      "None\n"
     ]
    }
   ],
   "source": [
    "#1. Basics Data Exploration\n",
    "print(ipl_df.head())\n",
    "print(ipl_df.info())"
   ]
  },
  {
   "cell_type": "code",
   "execution_count": 3,
   "id": "8033c618",
   "metadata": {},
   "outputs": [
    {
     "name": "stdout",
     "output_type": "stream",
     "text": [
      "\n",
      "Team Wins:\n",
      " CSK    3\n",
      "MI     3\n",
      "RCB    2\n",
      "DC     1\n",
      "Name: winner, dtype: int64\n"
     ]
    }
   ],
   "source": [
    "#2. Team Performance\n",
    "teams_wins = ipl_df['winner'].value_counts()\n",
    "print('\\nTeam Wins:\\n', teams_wins)"
   ]
  },
  {
   "cell_type": "code",
   "execution_count": 4,
   "id": "0baa0cd0",
   "metadata": {},
   "outputs": [
    {
     "name": "stdout",
     "output_type": "stream",
     "text": [
      "\n",
      "Player of the Match Counts:\n",
      " Rohit Sharma       4\n",
      "Virat Kohli        2\n",
      "MS Dhoni           2\n",
      "Ravindra Jadeja    1\n",
      "Name: player_of_match, dtype: int64\n"
     ]
    }
   ],
   "source": [
    "#3. Player of the Match Analysis\n",
    "player_of_match_counts = ipl_df['player_of_match'].value_counts()\n",
    "print('\\nPlayer of the Match Counts:\\n', player_of_match_counts)"
   ]
  },
  {
   "cell_type": "code",
   "execution_count": 5,
   "id": "fceefac1",
   "metadata": {},
   "outputs": [
    {
     "name": "stdout",
     "output_type": "stream",
     "text": [
      "\n",
      "Average Runs Scored per Match: 175.0\n"
     ]
    }
   ],
   "source": [
    "#4. Runs Scored Analysis\n",
    "average_runs_per_match = ipl_df['runs_scored'].mean()\n",
    "print('\\nAverage Runs Scored per Match:', average_runs_per_match)"
   ]
  },
  {
   "cell_type": "code",
   "execution_count": 6,
   "id": "c58faeee",
   "metadata": {},
   "outputs": [
    {
     "data": {
      "image/png": "[encoded data removed]",
      "text/plain": [
       "<Figure size 720x432 with 1 Axes>"
      ]
     },
     "metadata": {
      "needs_background": "light"
     },
     "output_type": "display_data"
    }
   ],
   "source": [
    "#5. Bar Chart of Team Wins\n",
    "plt.figure(figsize=(10, 6))\n",
    "sns.barplot(x=teams_wins.index, y=teams_wins.values)\n",
    "plt.title('Team Wins')\n",
    "plt.xlabel('Team')\n",
    "plt.ylabel('Wins')\n",
    "plt.show()"
   ]
  },
  {
   "cell_type": "code",
   "execution_count": 7,
   "id": "e00130c7",
   "metadata": {},
   "outputs": [
    {
     "data": {
      "image/png": "[encoded data removed]",
      "text/plain": [
       "<Figure size 720x432 with 1 Axes>"
      ]
     },
     "metadata": {
      "needs_background": "light"
     },
     "output_type": "display_data"
    }
   ],
   "source": [
    "#6 Historgram of Runs Scored\n",
    "plt.figure(figsize=(10, 6))\n",
    "sns.histplot(ipl_df['runs_scored'], bins=20)\n",
    "plt.title('Runs Scored Distribution')\n",
    "plt.xlabel('Runs Scored')\n",
    "plt.ylabel('Frequency')\n",
    "plt.show()"
   ]
  },
  {
   "cell_type": "code",
   "execution_count": null,
   "id": "4b659ca3",
   "metadata": {},
   "outputs": [],
   "source": []
  }
 ],
 "metadata": {
  "kernelspec": {
   "display_name": "Python 3 (ipykernel)",
   "language": "python",
   "name": "python3"
  },
  "language_info": {
   "codemirror_mode": {
    "name": "ipython",
    "version": 3
   },
   "file_extension": ".py",
   "mimetype": "text/x-python",
   "name": "python",
   "nbconvert_exporter": "python",
   "pygments_lexer": "ipython3",
   "version": "3.9.12"
  }
 },
 "nbformat": 4,
 "nbformat_minor": 5
}
